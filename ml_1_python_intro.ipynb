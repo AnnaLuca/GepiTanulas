{
  "nbformat": 4,
  "nbformat_minor": 0,
  "metadata": {
    "colab": {
      "name": "ml_1_python_intro.ipynb",
      "provenance": [],
      "collapsed_sections": [],
      "include_colab_link": true
    },
    "kernelspec": {
      "name": "python3",
      "display_name": "Python 3"
    }
  },
  "cells": [
    {
      "cell_type": "markdown",
      "metadata": {
        "id": "view-in-github",
        "colab_type": "text"
      },
      "source": [
        "<a href=\"https://colab.research.google.com/github/AnnaLuca/GepiTanulas/blob/master/ml_1_python_intro.ipynb\" target=\"_parent\"><img src=\"https://colab.research.google.com/assets/colab-badge.svg\" alt=\"Open In Colab\"/></a>"
      ]
    },
    {
      "cell_type": "markdown",
      "metadata": {
        "id": "9I5g0tfyGaFB",
        "colab_type": "text"
      },
      "source": [
        "# colab környezet\n",
        "\n",
        "A [Google Colaboratory](https://colab.research.google.com) egy felhő alapú szolgáltatás, amiben [jupyter notebookokat](https://jupyter-notebook.readthedocs.io/en/stable/) futtathatunk. A colabon a python környezet és gyakran használt csomagok telepítve vannak, nem kell ezzel bajlódnunk, továbbá a notebookok egy interaktív fejlesztőkörnyezetet is biztosítanak.\n",
        "\n",
        "Egy notebook cellákból épül fel. Egy 'cella' az egy futtatható kód- vagy szöveges blokk. A kód cellákat külön-külön is futtathatjuk, a 'Run cell' ikonnal vagy a SHIFT+ENTER billentyűkombinációval. A notebooknak mindig van egy állapota (változók értékei, betöltött könyvtárak stb). Egy kód cella futtatásakor ez az állapot megváltozik.\n",
        "\n",
        "Egy notebookon többen is dolgozhatnak ('share'), akár egyidőben is. A kurzus notebookjai csak olvasásra megosztottak. Érdemes egy másolatot készíteni belőlük, és azt futtatni, szerkeszteni, kísérletezni velük.\n",
        "\n",
        "Próbáld ki az auto suggestiont (kiegészítés) is!\n",
        "\n",
        "Have fun!\n"
      ]
    },
    {
      "cell_type": "markdown",
      "metadata": {
        "id": "trFIXED5OrML",
        "colab_type": "text"
      },
      "source": [
        "# Python alapok\n",
        "\n",
        "A változók típusát nem kell megadnunk, az automatikusan kialakul:"
      ]
    },
    {
      "cell_type": "code",
      "metadata": {
        "id": "74jTOSLCQ8mP",
        "colab_type": "code",
        "colab": {}
      },
      "source": [
        "i=3\n",
        "# a hashmark utáni sorok kommentek\n",
        "i # egy kódcella utolsó utasítása ami egy változó értéke, az kiiratásra kerül a cella futtatásával"
      ],
      "execution_count": null,
      "outputs": []
    },
    {
      "cell_type": "markdown",
      "metadata": {
        "id": "OpQHLExrSA0Q",
        "colab_type": "text"
      },
      "source": [
        "sőt dinamikusan változik:"
      ]
    },
    {
      "cell_type": "code",
      "metadata": {
        "id": "cZP7uYorSQHi",
        "colab_type": "code",
        "colab": {}
      },
      "source": [
        "i = \"valami\" # string változó\n",
        "i"
      ],
      "execution_count": null,
      "outputs": []
    },
    {
      "cell_type": "markdown",
      "metadata": {
        "id": "Am1p4BOCScRX",
        "colab_type": "text"
      },
      "source": [
        "Természetesen a pythonban is minden változónak mindig van típusa, de az dinamikusan meg tud változni, ezzel sokat könnyítve a programozó munkáját."
      ]
    },
    {
      "cell_type": "code",
      "metadata": {
        "id": "H7dMO50lSbUX",
        "colab_type": "code",
        "colab": {}
      },
      "source": [
        "type(i) # x változó aktuális típusának lekérdezése"
      ],
      "execution_count": null,
      "outputs": []
    },
    {
      "cell_type": "code",
      "metadata": {
        "id": "o_GIoz_iR16n",
        "colab_type": "code",
        "colab": {}
      },
      "source": [
        "x=7\n",
        "y=2\n",
        "print(type(x))\n",
        "print(type(y))\n",
        "x/y # két egész szám (INTEGER) hányadosa lebegőpontos"
      ],
      "execution_count": null,
      "outputs": []
    },
    {
      "cell_type": "code",
      "metadata": {
        "id": "PkGGaLhyRvbC",
        "colab_type": "code",
        "colab": {}
      },
      "source": [
        "int(x/y) # a lebegőpontos eredményt egésszé így konvertáljuk"
      ],
      "execution_count": null,
      "outputs": []
    },
    {
      "cell_type": "code",
      "metadata": {
        "id": "C_HHpaIjT1Ro",
        "colab_type": "code",
        "colab": {}
      },
      "source": [
        "float(x%y) # % a maradékos osztás jele, eredménye egy egész szám, amelyet így tudunk lebegőpontássá alakítani"
      ],
      "execution_count": null,
      "outputs": []
    },
    {
      "cell_type": "code",
      "metadata": {
        "id": "7bAO9jVUEW9t",
        "colab_type": "code",
        "colab": {}
      },
      "source": [
        "print(x+y) # print() utasítással is tudunk az outputra írni (nem csak egyszer egy cellában)\n",
        "print(\"valami\")\n",
        "s = \"valami\"\n",
        "print(s)\n",
        "print(s, x) # print()-ben egyszerűen a vesszővel felsorolva egymás után fűzhetünk szövegeket (szóközzel)\n",
        "print(x,\"+\",y,\"=\",x+y)"
      ],
      "execution_count": null,
      "outputs": []
    },
    {
      "cell_type": "markdown",
      "metadata": {
        "id": "7K_E9nIeVeod",
        "colab_type": "text"
      },
      "source": [
        "Futtasd le az alábbi cellát egymás után többször!"
      ]
    },
    {
      "cell_type": "code",
      "metadata": {
        "id": "goKJ1OSQVWRi",
        "colab_type": "code",
        "colab": {}
      },
      "source": [
        "x=x*2\n",
        "x"
      ],
      "execution_count": null,
      "outputs": []
    },
    {
      "cell_type": "markdown",
      "metadata": {
        "id": "0xmos8ScLxdQ",
        "colab_type": "text"
      },
      "source": [
        "Részletesebben python alapok:\n",
        "\n",
        "[python tutorial](https://docs.python.org/3/tutorial/introduction.html#using-python-as-a-calculator)\n",
        "\n",
        "[Google python bevezetője](https://developers.google.com/edu/python/introduction)\n",
        "\n",
        "\n",
        "# Stringek"
      ]
    },
    {
      "cell_type": "code",
      "metadata": {
        "id": "dtuxg-k7Ea9S",
        "colab_type": "code",
        "colab": {}
      },
      "source": [
        "xenia='abc'\n",
        "z=\"de\" # macskaköröm és aposztróf is használható konstans stringek megadására\n",
        "zz = \"\"\"valmai\n",
        "1234\n",
        "kre\n",
        "\"\"\" # a \"\"\" esetén a sortörés is a konstans string része\n",
        "xenia+zz # stringek is működik a +, egymás után fűzést jelent"
      ],
      "execution_count": null,
      "outputs": []
    },
    {
      "cell_type": "code",
      "metadata": {
        "id": "SOl6YVI4Em0Q",
        "colab_type": "code",
        "colab": {}
      },
      "source": [
        "### a string osztálynak (igen a python is objektum orientált nyelv, csak próbálja titkolni :D) is van sok metódusa\n",
        "print(xenia.capitalize())\n",
        "len(xenia)"
      ],
      "execution_count": null,
      "outputs": []
    },
    {
      "cell_type": "code",
      "metadata": {
        "id": "MVkwb6KtV19r",
        "colab_type": "code",
        "colab": {}
      },
      "source": [
        "s = \"hosszabb string\"\n",
        "# Szögletes zárójellel tudunk szövegen belüli pozícióra hivatkozni.\n",
        "# 0-val kezdődik az indexelés\n",
        "print(s[1]) # második karakter\n",
        "# kettősponttal szövegrészletre (részstring) is hivatkozhatunk\n",
        "# a kezdő pozíció benne van az eredményben, a vég pozíció a rákövetkezőre mutat\n",
        "print(s[3:5]) # 3,4 indexen lévő karakterek (5 már nem)\n",
        "print(s[2:]) # ha a végindex üres azt jelenti, hogy a string végéig\n",
        "print(s[:5]) # illetve az elejétől\n",
        "# negatív index a végéről indexel\n",
        "print(s[-3]) # hátulról a harmadik karakter\n",
        "print(s[-3:]) # kezdő index legyen hátulról a harmadik, azaz az utolsó 3 karakter\n",
        "print(s[3:8:2]) #3-tól 8-ig indexen, minden második karakter\n",
        "print(s[8:3:-1]) #3-tól 8-ig megfordítva a string"
      ],
      "execution_count": null,
      "outputs": []
    },
    {
      "cell_type": "code",
      "metadata": {
        "id": "9G7I5VbisdkR",
        "colab_type": "code",
        "colab": {}
      },
      "source": [
        "s[1]='ó' #értékadás nem működik!"
      ],
      "execution_count": null,
      "outputs": []
    },
    {
      "cell_type": "markdown",
      "metadata": {
        "id": "sAs6sTubL9jo",
        "colab_type": "text"
      },
      "source": [
        "# Listák\n",
        "A lista pythonban tetszőleges típusú elemek sorozata. Egy listán belül is szerepelhetnek különböző típusú elemek.\n"
      ]
    },
    {
      "cell_type": "code",
      "metadata": {
        "id": "XXvMmPJ0YoPZ",
        "colab_type": "code",
        "colab": {}
      },
      "source": [
        "l=[1,2,3,4,\"valami\"]\n",
        "len(l) #lista hossza"
      ],
      "execution_count": null,
      "outputs": []
    },
    {
      "cell_type": "code",
      "metadata": {
        "id": "QrKGT6PHHqSX",
        "colab_type": "code",
        "colab": {}
      },
      "source": [
        "print(l[1:3]) #részlisták lekérdezése ugyanúgy, mint stringeknél\n",
        "print(l[-2:])\n",
        "l[1]=\"korte\" #listáknál az értékadás is működik\n",
        "print(l) \n",
        "l[1:3]=[7,8] #sőt egy részlistának is állíthatjuk az értékét (azaz cseréje egy listával)\n",
        "print(l)\n",
        "l[1:3]=[] #...vagy egy üres listával (azaz töröljük)\n",
        "print(l)\n",
        "l.append(\"birs\") # gyakran használjuk még az append()-et ami a lista végéhez hozzáfűz egy elemet\n",
        "print(l)"
      ],
      "execution_count": null,
      "outputs": []
    },
    {
      "cell_type": "markdown",
      "metadata": {
        "id": "89FW9gyIZSaC",
        "colab_type": "text"
      },
      "source": [
        "A listák nem numerikus vektorok!"
      ]
    },
    {
      "cell_type": "code",
      "metadata": {
        "id": "rVZEqz8zZIb6",
        "colab_type": "code",
        "colab": {}
      },
      "source": [
        "print([1,2,3] + [3,2,1]) # + itt is egymásután fűzést jelent\n",
        "print([1,2,3] * 3) #  a skalárral szorzás önmagunkának többszöri egymásután fűzése.\n",
        "[1,2,3] * [3,2,1] # két lista szorzata nem értelmezett!"
      ],
      "execution_count": null,
      "outputs": []
    },
    {
      "cell_type": "code",
      "metadata": {
        "id": "cvGoPad4aeIu",
        "colab_type": "code",
        "colab": {}
      },
      "source": [
        "l=[1,2,'a','szavacska',2.0] #különböző típusok szerepelhetnek a listában\n",
        "l[2]=3 # természetesen ha egy lista egy elemének értéket adunk, akkor annak típusa változhat\n",
        "l"
      ],
      "execution_count": null,
      "outputs": []
    },
    {
      "cell_type": "code",
      "metadata": {
        "id": "33OA3QRraxHV",
        "colab_type": "code",
        "colab": {}
      },
      "source": [
        "l=[[1,2,'a'],['bb','cc'],33] # sőt listák is lehetnek listaelemek (nested)\n",
        "print(l[1])\n",
        "print(l[1][1])"
      ],
      "execution_count": null,
      "outputs": []
    },
    {
      "cell_type": "markdown",
      "metadata": {
        "id": "x8P2suAkMJIn",
        "colab_type": "text"
      },
      "source": [
        "# Szótárak\n",
        "Más néven dictionary vagy asszociatív tömb.\n",
        "\n",
        "Kulcs-érték párokat tartalmaz. A kulcsok egyediek, egy érték többször is előfordulhat (több kulcshoz is tartozhat).\n"
      ]
    },
    {
      "cell_type": "code",
      "metadata": {
        "id": "J06nflVxaGXl",
        "colab_type": "code",
        "colab": {}
      },
      "source": [
        "d={} # üres szótár létrehozása\n",
        "d['pistike']=1234 # 'pistike' kulcsú elem értéke legyen 1234. Ha még nincs 'pistike' kulcs, akkor felveszi, ha már van, átírja az értékét\n",
        "\n",
        "# Kulcsok és értékek típusa is lehet vegyes\n",
        "d[987]='alma'\n",
        "# Most a d szótárban a 'pistike' és 987 két kulcs van egy int és egy string értékkel\n",
        "print(d)\n"
      ],
      "execution_count": null,
      "outputs": []
    },
    {
      "cell_type": "code",
      "metadata": {
        "id": "2CJqJCCPaYEn",
        "colab_type": "code",
        "colab": {}
      },
      "source": [
        "print(d[987])\n",
        "d[987]=1234 # egy meglévő kulcs értékének módosításakor változhat az érték típusa\n",
        "print(d)"
      ],
      "execution_count": null,
      "outputs": []
    },
    {
      "cell_type": "code",
      "metadata": {
        "id": "XgVcHUtqatmE",
        "colab_type": "code",
        "colab": {}
      },
      "source": [
        "d[123] #ha egy szótárban nem szereplő kulcsot akarunk lekérni, hibaüzenettel elszáll"
      ],
      "execution_count": null,
      "outputs": []
    },
    {
      "cell_type": "code",
      "metadata": {
        "id": "FcpL94uea_EE",
        "colab_type": "code",
        "colab": {}
      },
      "source": [
        "# in-el ellenőrízhető, hogy egy kulcs a szótárban van-e\n",
        "print(123 in d) \n",
        "print(987 in d)"
      ],
      "execution_count": null,
      "outputs": []
    },
    {
      "cell_type": "code",
      "metadata": {
        "id": "rgO78rFDajf-",
        "colab_type": "code",
        "colab": {}
      },
      "source": [
        "d={'körte':38, 'alma':12, 'barack':23} # szótár kontans kulcs-értékekkel feltöltve\n",
        "print(d.keys()) # kulcsok halmaza\n",
        "print(d.values()) # értékek halmaza\n",
        "print(d.items()) # kulcs-érték párok halmaza\n",
        "print(d.keys()[0]) # nincs sorrendiság szótárban! Ezért indexelni sincs értelme és nem is lehet!"
      ],
      "execution_count": null,
      "outputs": []
    },
    {
      "cell_type": "code",
      "metadata": {
        "id": "P4-TglXvbhWG",
        "colab_type": "code",
        "colab": {}
      },
      "source": [
        "print(list(d.keys())) # a kulcsok halmazát listává konvertálhatjuk. Figyelem! Az elemek sorrendje nem definiált, bármi lehet!\n",
        "print(sorted(d.keys())) # a halmaz elemeit rendezzük a sorted() függvénnyel, aminek eredménye egy lista"
      ],
      "execution_count": null,
      "outputs": []
    },
    {
      "cell_type": "code",
      "metadata": {
        "id": "z3_8ht4Ubg5E",
        "colab_type": "code",
        "colab": {}
      },
      "source": [
        "del d['körte'] # egy kulcs-érték páros törlése a szótárból\n",
        "print(d) \n",
        "d[\"körte\"]"
      ],
      "execution_count": null,
      "outputs": []
    },
    {
      "cell_type": "markdown",
      "metadata": {
        "id": "hzj-5Kggkt29",
        "colab_type": "text"
      },
      "source": [
        "# Halmazok\n",
        "Ha csak értékek halmzát tároljuk akkor azt nagyon hasonlóan tehetjük meg a szótárhoz (hiszen a szótár kulcs-érték párosok halmaza).\n"
      ]
    },
    {
      "cell_type": "code",
      "metadata": {
        "id": "J6maISNzk8Ri",
        "colab_type": "code",
        "colab": {}
      },
      "source": [
        "hal = {\"piros\", \"kék\", 128} # halmaz konstans értékekkel\n",
        "print(\"kék\" in hal)\n",
        "hal.add(\"zöld\") # új elem felvétele\n",
        "print(hal)\n",
        "hal.remove(\"kék\") # elem törlése\n",
        "print(hal)"
      ],
      "execution_count": null,
      "outputs": []
    },
    {
      "cell_type": "code",
      "metadata": {
        "id": "KlxGU5YTlrME",
        "colab_type": "code",
        "colab": {}
      },
      "source": [
        "# működnek a halmazműveletek is\n",
        "hal2 = {\"fehér\", \"piros\"}\n",
        "hal.intersection(hal2) # metszet"
      ],
      "execution_count": null,
      "outputs": []
    },
    {
      "cell_type": "markdown",
      "metadata": {
        "id": "VWgdRPQudFVN",
        "colab_type": "text"
      },
      "source": [
        "# Alap vezérlő műveletek\n",
        "Nincs sorvégi ;\n",
        "\n",
        "Az utasításblokkokat a sor eleji behúzás=spacek száma határozza meg"
      ]
    },
    {
      "cell_type": "code",
      "metadata": {
        "id": "wJrmYpujcL2C",
        "colab_type": "code",
        "colab": {}
      },
      "source": [
        "list = ['alma', 'körte', 'barack', 'dinnye']\n",
        "if 'dinnye' in list: # kettőspontot ne felejtsük el!\n",
        "  print('yepp')\n",
        "elif y>2:\n",
        "  print('')\n",
        "else:\n",
        "  print('noop')"
      ],
      "execution_count": null,
      "outputs": []
    },
    {
      "cell_type": "code",
      "metadata": {
        "id": "uvpHRuLYdqPj",
        "colab_type": "code",
        "colab": {}
      },
      "source": [
        "d={'alma':12, 'körte':38, 'barack':23}\n",
        "if 'dinnye' in d: print(d['dinnye'])"
      ],
      "execution_count": null,
      "outputs": []
    },
    {
      "cell_type": "code",
      "metadata": {
        "id": "mfoPR_WA5otW",
        "colab_type": "code",
        "colab": {}
      },
      "source": [
        "l = ['alma', 'körte', 'barack']\n",
        "x=15\n",
        "if ('dinnye' not in l or x<10) and x>10: #példa a feltételekben használható not, or, and operátorra\n",
        "  print('ok')\n",
        "if 10 < x < 20: # ez is sokat szépít a kódon\n",
        "  print('ott-ott')"
      ],
      "execution_count": null,
      "outputs": []
    },
    {
      "cell_type": "code",
      "metadata": {
        "id": "SfD2JkocdhPN",
        "colab_type": "code",
        "colab": {}
      },
      "source": [
        "sum = 0\n",
        "for i in d.values(): # foreach ciklus, a megadott kollekció minden elemére lefut\n",
        "  if i>20:\n",
        "    sum += i\n",
        "print(sum)"
      ],
      "execution_count": null,
      "outputs": []
    },
    {
      "cell_type": "markdown",
      "metadata": {
        "id": "4sAStndidTWm",
        "colab_type": "text"
      },
      "source": [
        "Próbáld ki, hogy az előző cellában a print(sum)-ot először 2, majd 4 szóközzel bentebb húzod (indentálod). Mi lesz a kimenet? Miért?"
      ]
    },
    {
      "cell_type": "code",
      "metadata": {
        "id": "I37hMMwffV4g",
        "colab_type": "code",
        "colab": {}
      },
      "source": [
        "[i for i in d.values() if i>20] #lista generálása for ciklussal (a kimenet egy lista)"
      ],
      "execution_count": null,
      "outputs": []
    },
    {
      "cell_type": "code",
      "metadata": {
        "id": "a7sUt1EcfpHY",
        "colab_type": "code",
        "colab": {}
      },
      "source": [
        "# mivel csak foreach van pythonban, i megy 0-tól 10-ig típusú \"klasszikus\" for ciklus így készíthető\n",
        "for i in range(2,10,2): #a range() metódus egy listában visszaadja a kért értékeket, itt 2-től 10-ig minden második egész\n",
        "  print(i)"
      ],
      "execution_count": null,
      "outputs": []
    },
    {
      "cell_type": "code",
      "metadata": {
        "id": "XuzSfb5QgIJ-",
        "colab_type": "code",
        "colab": {}
      },
      "source": [
        "i=0\n",
        "while i < 10: # elöltesztelős ciklus\n",
        "  i+=4\n",
        "  print(i)"
      ],
      "execution_count": null,
      "outputs": []
    },
    {
      "cell_type": "code",
      "metadata": {
        "id": "pUeD9xhWmBS7",
        "colab_type": "code",
        "colab": {}
      },
      "source": [
        "# függvényt így definíálhatunk\n",
        "# a függvény argumentumainak típusát itt sem kell megadni!\n",
        "# az argumentumoknak megadhatunk default értéket is, ha a hívásnál nem adjuk meg az adott változó értékét, akkor az a default értéket veszi fel\n",
        "# először mindig a kötelező argumentumok (amiknek nincs default értéke), majd utána a nem kötelező változókat (amiknek van default értéke) adjuk meg\n",
        "# a függvény hatókörét itt is a behúzás adja meg\n",
        "# ha az utolsó utasítás return akkor van visszatérési érték, ha nincs akkor csak metódus 'None' visszatérési értékkel\n",
        "def sajatFgv(a,b=3): # 'a' kötelező argumentum, 'b' default értéke (azaz ha a hívó nem adja meg) 3\n",
        "  res = a*b # res lokális változó! csak a függvény a hatóköre\n",
        "  return res # fgv visszatérési értéke\n",
        "\n",
        "print(sajatFgv(2,5)) # 2*5=10\n",
        "print(sajatFgv(2)) # b felveszi a default 3 értéket, 2*3=6"
      ],
      "execution_count": null,
      "outputs": []
    },
    {
      "cell_type": "markdown",
      "metadata": {
        "id": "DAQ45MTfhx9Y",
        "colab_type": "text"
      },
      "source": [
        "Ha még többet szeretnél tudni: [python control flows](https://docs.python.org/3/tutorial/controlflow.html)"
      ]
    },
    {
      "cell_type": "markdown",
      "metadata": {
        "id": "BNAIGTLj4mdp",
        "colab_type": "text"
      },
      "source": [
        "# Rendezés"
      ]
    },
    {
      "cell_type": "code",
      "metadata": {
        "id": "VX1r3sSO4q_I",
        "colab_type": "code",
        "colab": {}
      },
      "source": [
        "l=['a','cc','bbb']\n",
        "print(sorted(l, key=len)) #sorted() visszatér az elemek egy rendezett új listájával (eredeti lista nem változik)\n",
        "print(l)\n",
        "print(l.sort()) #a list.sort() (át)rendezi a listát\n",
        "print(l)"
      ],
      "execution_count": null,
      "outputs": []
    },
    {
      "cell_type": "code",
      "metadata": {
        "id": "-rXS25cZ5L8X",
        "colab_type": "code",
        "colab": {}
      },
      "source": [
        "a=False #logikai változó konstans értékadással\n",
        "l.sort(reverse=True) #rendezés fordított sorrendben\n",
        "l"
      ],
      "execution_count": null,
      "outputs": []
    },
    {
      "cell_type": "markdown",
      "metadata": {
        "id": "cyzAKJejkb9n",
        "colab_type": "text"
      },
      "source": [
        "# Gyakorló feladatok\n",
        "\n",
        "1. Csináld meg ezt a [quizt](https://pynative.com/basic-python-quiz-for-beginners/). Hány jó válaszod volt?\n",
        "\n",
        "2. Egy string 3 leggyakoribb szavának kilistázása\n"
      ]
    },
    {
      "cell_type": "code",
      "metadata": {
        "id": "WkRnWcomlMoF",
        "colab_type": "code",
        "colab": {}
      },
      "source": [
        "s = 'a a alma körte b b alma alma c d e f g haha haha'\n"
      ],
      "execution_count": null,
      "outputs": []
    },
    {
      "cell_type": "markdown",
      "metadata": {
        "id": "g9B-YBrpwtjm",
        "colab_type": "text"
      },
      "source": [
        "*A tananyag az EFOP-3.4.3-16-2016-00014 pályázat támogatásával készült.* ![alt text](https://drive.google.com/uc?id=1cduvGLFXIqC3ffGKuPJJlNWFoO-C_ywh)\n"
      ]
    }
  ]
}