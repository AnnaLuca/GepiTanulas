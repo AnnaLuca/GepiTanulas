{
  "nbformat": 4,
  "nbformat_minor": 0,
  "metadata": {
    "colab": {
      "name": "ml_2_data_frames.ipynb",
      "provenance": [],
      "collapsed_sections": [
        "czgB2_v7nVHk"
      ],
      "include_colab_link": true
    },
    "kernelspec": {
      "name": "python3",
      "display_name": "Python 3"
    }
  },
  "cells": [
    {
      "cell_type": "markdown",
      "metadata": {
        "id": "view-in-github",
        "colab_type": "text"
      },
      "source": [
        "<a href=\"https://colab.research.google.com/github/AnnaLuca/GepiTanulas/blob/master/ml_2_data_frames.ipynb\" target=\"_parent\"><img src=\"https://colab.research.google.com/assets/colab-badge.svg\" alt=\"Open In Colab\"/></a>"
      ]
    },
    {
      "cell_type": "markdown",
      "metadata": {
        "id": "qmgH9gFj8QAB"
      },
      "source": [
        "# Adatkezelés pythonban\n",
        "\n",
        "A gépi tanuláshoz [jellemzővektorokkal leírt egyedek](http://http://www.inf.u-szeged.hu/~rfarkas/ML20/alapfogalmak.html)kel, azaz adatrekordokkal dolgozunk.\n",
        "\n",
        "A [pandas](https://pandas.pydata.org/pandas-docs/stable/10min.html) csomag a legelterjedtebb adatkezelési csomag pythonban, ha nem túl nagy adatbázisokkal dolgozunk."
      ]
    },
    {
      "cell_type": "code",
      "metadata": {
        "id": "DG0QanCt3YP2"
      },
      "source": [
        "import pandas as pd #használunk egy 'pandas' nevű python csomagot és 'pd'-vel fogunk rá hivatkozni"
      ],
      "execution_count": null,
      "outputs": []
    },
    {
      "cell_type": "markdown",
      "metadata": {
        "id": "hbc5Sr24pfdf"
      },
      "source": [
        "A pandas alap adattípusa a Series, ami megegyező típusú elemek egy sorozatát tárolja. Továbbá minden elemnek van egy 'neve', azaz indexe."
      ]
    },
    {
      "cell_type": "code",
      "metadata": {
        "id": "C-mqnqY6S02s"
      },
      "source": [
        "l = [1,2,3] # egy lista\n",
        "s = pd.Series(l) # a listát átkonvertáljuk Series-é\n",
        "print(l)\n",
        "print(s) # figyeljük meg az elemek indexét (0,1,2) és, hogy a Series dtype típusú elemeket tartalmazhat csak"
      ],
      "execution_count": null,
      "outputs": []
    },
    {
      "cell_type": "markdown",
      "metadata": {
        "id": "FwI9Ss-tqUgy"
      },
      "source": [
        "A numerikus értékeket tartalmazó Series matematikai vektorként viselkedik, nem úgy, mint a lista:"
      ]
    },
    {
      "cell_type": "code",
      "metadata": {
        "id": "uvkQRs_KTChW"
      },
      "source": [
        "print(l * 2)\n",
        "print(s * 2) # skalárral való szorzás\n",
        "print(s ** 2) # négyzetre emelés\n",
        "l + s # itt a háttérben az l lista automatikusan Series-é konvertálódik és két Series-t össze tudunk adni"
      ],
      "execution_count": null,
      "outputs": []
    },
    {
      "cell_type": "markdown",
      "metadata": {
        "id": "5FbASFyOq9-d"
      },
      "source": [
        "Az alábbi viszont nem fut le... Miért?"
      ]
    },
    {
      "cell_type": "code",
      "metadata": {
        "id": "oQMtFk72xPqz"
      },
      "source": [
        "(l*3) + s"
      ],
      "execution_count": null,
      "outputs": []
    },
    {
      "cell_type": "markdown",
      "metadata": {
        "id": "CyVPOYC6rDMn"
      },
      "source": [
        "... azért mert az (l*3) a listát háromszor lemásolja, így eredménye egy 9 elemű lista. Az összeadás elvégzéséhez a python ezt automatikusan Series-é konvertálja, de egy 9 hosszú és egy 3 hosszú vektor összeadása nem értelmezett a matematikában."
      ]
    },
    {
      "cell_type": "markdown",
      "metadata": {
        "id": "aDUCEA-JSvG0"
      },
      "source": [
        "# pandas DataFrame\n",
        "\n",
        "A DataFrame-t egy adattáblának képzelhetjük el, ahol egyedek/rekordok vannak felsorolva, úgy hogy azok névvel ellátott jellemzői/változó alkotják az oszlopokat.\n",
        "\n",
        "Nézzünk egy játék adatbázist, ahol gyűjtjük, hogy a különböző típusú szociális média üzenetekre hány like érkezett egyes hónapokban."
      ]
    },
    {
      "cell_type": "code",
      "metadata": {
        "id": "roT8L2nG3_om"
      },
      "source": [
        "# Gondolhatunk az adattáblára, úgy, hogy a sorok szótárak (jellemzők nevei a kulcsok), azaz a DataFrame szótárak listája\n",
        "like = [{'page': 'macskás kép', 'jan': 150, 'febr': 200, 'márc': 140},\n",
        "         {'page': 'tükrös selfie',  'jan': 200, 'febr': 210, 'márc': 215},\n",
        "         {'page': 'data science vicc',  'jan': 50,  'febr': 90,  'márc': 95 }] \n",
        "pd.DataFrame(like) # a colab egy tetszetős megjelenítést biztosít a DataFramenek"
      ],
      "execution_count": null,
      "outputs": []
    },
    {
      "cell_type": "markdown",
      "metadata": {
        "id": "2YQBMUiQtROb"
      },
      "source": [
        "Próbáld ki mi történik, ha az egyik rekordban mondjuk a `febr` jellemző nevet elgépeled `feb`-re. Mi történik?\n",
        "\n",
        "A DataFrame feltöltésénél minden új jellemző/oszlopnevet amivel találkozik a pandas a feldolgozásnál egy új oszlopnak vesz fel. Természetesen nem tudja a python, hogy a `feb` a `febr` elgépelése és egy új oszlopot vesz fel neki. Az elgépelt rekordban nincs megadva a `febr` jellemző értéke, ezért az `NaN` (Not a Number) lesz. Hasonlóan a másik két rekordban pedig nincs megadva a `feb` értéke, ezért azok `NaN`ok lesznek."
      ]
    },
    {
      "cell_type": "code",
      "metadata": {
        "id": "UNYC43r24Aus"
      },
      "source": [
        "# De gondolhatunk úgy is az adattáblára, hogy az oszlopok nevesített listák. \n",
        "# Ekkor a DataFrame egy szótár, amiben a kulcsok oszlopnevek és az értékek listák (listák hosszának egyezőnek kell lenniük)\n",
        "like = {'page': ['macskás kép', 'tükrös selfie', 'data science vicc'],\n",
        "        'jan' : [150, 200, 50],\n",
        "        'febr': [200, 210, 90],\n",
        "        'márc': [140, 215, 111]}\n",
        "pd.DataFrame(like)\n"
      ],
      "execution_count": null,
      "outputs": []
    },
    {
      "cell_type": "code",
      "metadata": {
        "id": "ySgL0x4I4GQU"
      },
      "source": [
        "df = pd.DataFrame.from_dict(like)\n",
        "df[['page','jan', 'febr', 'márc']] #oszlopok sorrendjének megadása dupla szögletes zárójellel"
      ],
      "execution_count": null,
      "outputs": []
    },
    {
      "cell_type": "markdown",
      "metadata": {
        "id": "UfN9FMHQ_lmy"
      },
      "source": [
        "további információk a [DataFramek listából/szótárból feltöltéséről](http://pbpython.com/pandas-list-dict.html)\n",
        "## DataFrame beolvasásáa fájlból\n",
        "A kurzuson általában kész adatbázisokkal fogunk dolgozni, amik csv formátumban elérhetők. Elsőként nézzük meg a 'survey' adathalmazt, amiben egyetemi hallgatók és alkalmazottak töltöttek ki egy egyszerű kérdőívet. Bővebb\n",
        "leírás ezen [PDF file](https://cran.r-project.org/web/packages/MASS/MASS.pdf) 149. oldalán található."
      ]
    },
    {
      "cell_type": "code",
      "metadata": {
        "id": "Ju_raNjb4HJ0"
      },
      "source": [
        "# a pandas read_csv metódusa letölti az URLen található csv-t és egyből DataFramebe tölti:\n",
        "df = pd.read_csv(\"https://raw.github.com/vincentarelbundock/Rdatasets/master/csv/MASS/survey.csv\")\n",
        "df"
      ],
      "execution_count": null,
      "outputs": []
    },
    {
      "cell_type": "markdown",
      "metadata": {
        "id": "oStBcM-002Z9"
      },
      "source": [
        "Amikor egy új adathalmazzal kezdünk el dolgozni, mindig ismerjük meg azt, mielőtt nekiállnánk fejleszteni!"
      ]
    },
    {
      "cell_type": "code",
      "metadata": {
        "id": "9ixVX6RZNwPf"
      },
      "source": [
        "# alapvető tulajdonságok:\n",
        "\n",
        "print(df.shape) # hány sor és hány oszlop?\n",
        "print(df.columns) # mezők=oszlopok nevei\n",
        "print(len(df.columns))\n",
        "print(df.dtypes) # oszlopok típusai\n",
        "print(df.index) # sorok nevei (indexe)\n",
        "print(len(df))"
      ],
      "execution_count": null,
      "outputs": []
    },
    {
      "cell_type": "markdown",
      "metadata": {
        "id": "zjEsYEzf1l0Z"
      },
      "source": [
        "## DataFrame elérések"
      ]
    },
    {
      "cell_type": "code",
      "metadata": {
        "id": "kr6AVeIrNGim"
      },
      "source": [
        "print(df.head()) # első 5 sor\n",
        "df.tail(3) # utolsó 3 sor"
      ],
      "execution_count": null,
      "outputs": []
    },
    {
      "cell_type": "code",
      "metadata": {
        "id": "LgSC_RGDWU4d"
      },
      "source": [
        "df['Age'] # oszlop lekérése névvel. eredménye Series\n",
        "df.Age # Ez ugyanazt eredményezi (nem minden jellemzőnév esetén használható)"
      ],
      "execution_count": null,
      "outputs": []
    },
    {
      "cell_type": "code",
      "metadata": {
        "id": "9KZDk9p64Z8U"
      },
      "source": [
        "df[2:5] # sorok lekérése indexel (ugyanúgy, mint listáknál). eredménye DataFrame"
      ],
      "execution_count": null,
      "outputs": []
    },
    {
      "cell_type": "code",
      "metadata": {
        "id": "D88SbwC94aJw"
      },
      "source": [
        "df[-5:] # ua mint df.tail()"
      ],
      "execution_count": null,
      "outputs": []
    },
    {
      "cell_type": "code",
      "metadata": {
        "id": "XdTZcfdmZ9U0"
      },
      "source": [
        "df[1:3].Age # két sor majd azon belül egy oszlop lekérése. eredménye Series"
      ],
      "execution_count": null,
      "outputs": []
    },
    {
      "cell_type": "code",
      "metadata": {
        "id": "RFDJzX535D41"
      },
      "source": [
        "# loc-al egyszerre tudunk sorra és oszlopra szűrni\n",
        "# Vigyázat! Itt sorok és oszlopok nevei (és nem indexei!) használatosak.\n",
        "# És mivel nevekkel hivatkozunk a jobb oldali intervallum is a felsorolás része.\n",
        "df.loc[1:3,'Age'] # itt most a sorok nevei és indexei megegyeznek, de az eredmény 3 elemű"
      ],
      "execution_count": null,
      "outputs": []
    },
    {
      "cell_type": "code",
      "metadata": {
        "id": "9WJzK2oOYMhS"
      },
      "source": [
        "df.loc[1:3,'Sex':'Fold'] # a : itt a két nevesített sor/oszlop és a köztük lévő elemekre vonatkozik"
      ],
      "execution_count": null,
      "outputs": []
    },
    {
      "cell_type": "code",
      "metadata": {
        "id": "yeOG99p257xO"
      },
      "source": [
        "df.loc[[1,3], ['Sex','Fold']] # sor/oszlop nevek listáját is megadhatjuk"
      ],
      "execution_count": null,
      "outputs": []
    },
    {
      "cell_type": "code",
      "metadata": {
        "id": "1YmaeZLGZ_n2"
      },
      "source": [
        "# iloc sor és oszlop indexekkel hivatkozik\n",
        "df.iloc[-3:,-2:] # eredménye DataFrame"
      ],
      "execution_count": null,
      "outputs": []
    },
    {
      "cell_type": "code",
      "metadata": {
        "id": "KPQm3nVu6SQ1"
      },
      "source": [
        "df.iloc[2,2] #ha egy cellára használjuk akkor eredménye elemi típus"
      ],
      "execution_count": null,
      "outputs": []
    },
    {
      "cell_type": "code",
      "metadata": {
        "id": "TpaTqKlS6UcL"
      },
      "source": [
        "df.iloc[[2,5],:] #indexek listáját is megadhatjuk"
      ],
      "execution_count": null,
      "outputs": []
    },
    {
      "cell_type": "code",
      "metadata": {
        "id": "y8yQGLLletY_"
      },
      "source": [
        "print(df.at[2,'Age']) # egy (cella)értékre hivatkozás névvel\n",
        "print(df.iat[2,-1]) # egy (cella)értékre hivatkozás indexel\n",
        "df.at[2,'Age'] = 16.918 # egy (cella)érték megváltoztatása\n",
        "df['UjOszlop'] = df['Age'] + 2 # új oszlop felvétele (Series vektorművelettel)\n",
        "df.head()"
      ],
      "execution_count": null,
      "outputs": []
    },
    {
      "cell_type": "markdown",
      "metadata": {
        "id": "xTwPUPu0eIo-"
      },
      "source": [
        "## Feltételes résztömbök\n",
        "\n",
        "DataFramekben nem csak összefügő részeket akarhatunk lekérdezni, hanem olyan sorokat is amelyek valamilyen feltétlnek megfelelnek."
      ]
    },
    {
      "cell_type": "code",
      "metadata": {
        "id": "UxDkUN6zeNRl"
      },
      "source": [
        "# Kérem a 17 évnél fiatalabbakat tartalmazó sorokat\n",
        "df[df.Age < 17] "
      ],
      "execution_count": null,
      "outputs": []
    },
    {
      "cell_type": "code",
      "metadata": {
        "id": "g9QcdOMeg0xz"
      },
      "source": [
        "df.Age<17 # egy 'logikai vektor', elemei True vagy False (minden Series elemre ellenőrzi a feltételt)"
      ],
      "execution_count": null,
      "outputs": []
    },
    {
      "cell_type": "markdown",
      "metadata": {
        "id": "6uZPwM7O_KIt"
      },
      "source": [
        "A háttérben először kiszámolunk egy 'logikai vektort', ami pontosan annyi elemet tartalmaz, mint a DataFrame sorainak száma, majd ezzel a logikai vektorral tudunk sorokat lekérdezni a DataFrameből."
      ]
    },
    {
      "cell_type": "code",
      "metadata": {
        "id": "VtIAnzcwhmIP"
      },
      "source": [
        "# Kérem a 40 évnél idősebbeket akik néha edzenek\n",
        "df[df.Age>40][df.Exer=='Some'] # logikai vektorok nem támogatják az összetett feltételeket (mint AND és OR)! Helyette dupla szűrés.\n",
        "df[df.Exer.isin(['Some','Freq'])] # isin() függvény minden elemre meghívódik és True-val tér vissza a megadott listában szerepel az elem."
      ],
      "execution_count": null,
      "outputs": []
    },
    {
      "cell_type": "markdown",
      "metadata": {
        "id": "PQ9cjRHIAtkF"
      },
      "source": [
        "## Hiányzó értékek kezelése"
      ]
    },
    {
      "cell_type": "code",
      "metadata": {
        "id": "cDIvUSzaA67w"
      },
      "source": [
        "df.head() "
      ],
      "execution_count": null,
      "outputs": []
    },
    {
      "cell_type": "markdown",
      "metadata": {
        "id": "OEx11_KyBHeG"
      },
      "source": [
        "Figyeljük meg, hogy a `2` indexű ember nem adta meg a magasságát, a `3` indexű pedig a pulzusát. A `NaN` jelöli a hiányzó adatot (not available). Bizonyos műveletek nem tudnak mit kezdeni a `NaN` rekordokkal, ezért célszerű ezek kezelése, rögtön az adattábla beolvasása után."
      ]
    },
    {
      "cell_type": "code",
      "metadata": {
        "id": "BI5mEe3Zjn2z"
      },
      "source": [
        "# Kérem azokat a sorokat ahol a Height nincs megadva\n",
        "df[df.Height.isna()] # isna() logikai művelet"
      ],
      "execution_count": null,
      "outputs": []
    },
    {
      "cell_type": "code",
      "metadata": {
        "id": "95LrBCm9B3cs"
      },
      "source": [
        "df[df.Exer.isna()] # mindenki megadta az edzési szokásait (Exer)"
      ],
      "execution_count": null,
      "outputs": []
    },
    {
      "cell_type": "code",
      "metadata": {
        "id": "_psje4aECGfz"
      },
      "source": [
        "# Legegyszerűbb ha kitörlünk minden olyan rekordot ami tartalmaz NaN értéket\n",
        "print(\"eredeti méret:\", df.shape)\n",
        "print(\"dropna utáni méret:\", df.dropna().shape) # dropna() minden olyan sort töröl amiben van NA érték (visszatér egy új, szűrt DataFrame-el)"
      ],
      "execution_count": null,
      "outputs": []
    },
    {
      "cell_type": "code",
      "metadata": {
        "id": "AqHZhP4pCo6Z"
      },
      "source": [
        "# Ha nem akarunk (sok) rekordot veszíteni, akkor lecseréhetjük a NaN-okat valamilyen konstans értékre a fillna()-val\n",
        "# fillna() szintén visszatér egy új, átírt DataFrame-el, nem változt az eredeti DataFrame-en\n",
        "df.fillna(value=0).head() # minden hiányzó értéket 0-val helyettesít"
      ],
      "execution_count": null,
      "outputs": []
    },
    {
      "cell_type": "code",
      "metadata": {
        "id": "g7pS3QPGDQSo"
      },
      "source": [
        "# különböző oszlopokban különböző helyettesítő érték\n",
        "df.fillna(value={'Pulse':80, 'Height':160}).head() # vigyázat, azokban az oszlopokban, amikhez nem adtunk meg default értéket megmaradnak a NaN-ok!"
      ],
      "execution_count": null,
      "outputs": []
    },
    {
      "cell_type": "code",
      "metadata": {
        "id": "APemIykhDt1V"
      },
      "source": [
        "# A gyakorlatban helyettesítő értéknek a leggyakrabban az adott jellemző átlagát használjuk\n",
        "# Így a jellemző statisztikái viszonylag kis mértékben torzulnak csak\n",
        "df.fillna(value={'Pulse':df.Pulse.mean(), 'Height':df.Height.mean()}).head()"
      ],
      "execution_count": null,
      "outputs": []
    },
    {
      "cell_type": "markdown",
      "metadata": {
        "id": "lbSJFSsKbL1E"
      },
      "source": [
        "# Egyszerű leíró statisztikák\n",
        "\n",
        "A Series-eken az egyszerű statisztikai műveletek is értelmezve vannak:"
      ]
    },
    {
      "cell_type": "code",
      "metadata": {
        "id": "Q5xt7c3DOwjs"
      },
      "source": [
        "print(\"Legfiatalabb résztvevő életkora:\" , df.Age.min()) # egy oszlop legkissebb értéke\n",
        "df['Age'].mean() # egy oszlop átlaga"
      ],
      "execution_count": null,
      "outputs": []
    },
    {
      "cell_type": "code",
      "metadata": {
        "id": "7Wuysk3B8POe"
      },
      "source": [
        "df.max() # minden numerikus változóra lefuttatja a műveletet (diszkrét változókra nem értelmezett)"
      ],
      "execution_count": null,
      "outputs": []
    },
    {
      "cell_type": "code",
      "metadata": {
        "id": "yAxE_D-RNI6B"
      },
      "source": [
        "df['Fold'].value_counts() # egy diszkrét/kategórikus jellemző lehetséges értékei és azok gyakorisága"
      ],
      "execution_count": null,
      "outputs": []
    },
    {
      "cell_type": "markdown",
      "metadata": {
        "id": "OHTsFsKuD9m7"
      },
      "source": [
        "Két diszkrét változó közti kapcsolatot könnyen megérthetjük a kereszttáblájukból, ami a két jellemző egyes értékeinek együttes előfordulásának gyakoriságát tartalmazza:"
      ]
    },
    {
      "cell_type": "code",
      "metadata": {
        "id": "X9hC_N5gH2iF"
      },
      "source": [
        "pd.crosstab(df.Fold, df['W.Hnd'])"
      ],
      "execution_count": null,
      "outputs": []
    },
    {
      "cell_type": "markdown",
      "metadata": {
        "id": "WdfD9ULK9ayo"
      },
      "source": [
        "Ha egy diszkrét változó különböző értékeire külön-külöm szeretnénk statisztikákat számolni, csoportosíthatjuk a rekordokat a változó értékei szerint:"
      ]
    },
    {
      "cell_type": "code",
      "metadata": {
        "id": "2ENiryMcGlPw"
      },
      "source": [
        "df.groupby('Clap').mean() # Clap változó egyes értékeire csoportosított elemek csoportátlaga"
      ],
      "execution_count": null,
      "outputs": []
    },
    {
      "cell_type": "code",
      "metadata": {
        "id": "qIpJ0t7K9x9c"
      },
      "source": [
        "df.groupby(['Sex','Clap']).mean() # egyszerre több változó szerint is csoportosíthatunk (Descartes szorzat)"
      ],
      "execution_count": null,
      "outputs": []
    },
    {
      "cell_type": "markdown",
      "metadata": {
        "id": "czgB2_v7nVHk"
      },
      "source": [
        "# Gyakorló feladatok\n",
        "1. Dohányzik a két legidősebb ember?\n",
        "2. Mi az átlagos Wr.Hnd a férfiaknál?\n",
        "\n"
      ]
    },
    {
      "cell_type": "code",
      "metadata": {
        "id": "i1EazK30nm2u"
      },
      "source": [
        "sorted(df.Age)[-3:]"
      ],
      "execution_count": null,
      "outputs": []
    },
    {
      "cell_type": "code",
      "metadata": {
        "id": "KYAcM7aOntHW"
      },
      "source": [
        "df.loc[df.Age>70,'Smoke']"
      ],
      "execution_count": null,
      "outputs": []
    },
    {
      "cell_type": "code",
      "metadata": {
        "id": "GbWo0q8ZoGMq"
      },
      "source": [
        "df[df.Sex=='Male']['Wr.Hnd'].mean()"
      ],
      "execution_count": null,
      "outputs": []
    },
    {
      "cell_type": "code",
      "metadata": {
        "id": "EBKbBMRRn511"
      },
      "source": [
        ""
      ],
      "execution_count": null,
      "outputs": []
    }
  ]
}